{
  "nbformat": 4,
  "nbformat_minor": 0,
  "metadata": {
    "colab": {
      "provenance": []
    },
    "kernelspec": {
      "name": "python3",
      "display_name": "Python 3"
    },
    "language_info": {
      "name": "python"
    }
  },
  "cells": [
    {
      "cell_type": "markdown",
      "source": [
        "## Cloning Repo"
      ],
      "metadata": {
        "id": "IArK-lCCH4J2"
      }
    },
    {
      "cell_type": "code",
      "execution_count": null,
      "metadata": {
        "colab": {
          "base_uri": "https://localhost:8080/"
        },
        "id": "qgJmBmqOL-4u",
        "outputId": "94d76323-822b-47f4-bae9-0fd078e26dcb"
      },
      "outputs": [
        {
          "output_type": "stream",
          "name": "stdout",
          "text": [
            "Cloning into 'FaceDetection'...\n",
            "remote: Enumerating objects: 33, done.\u001b[K\n",
            "remote: Counting objects: 100% (32/32), done.\u001b[K\n",
            "remote: Compressing objects: 100% (22/22), done.\u001b[K\n",
            "remote: Total 33 (delta 10), reused 30 (delta 10), pack-reused 1\u001b[K\n",
            "Unpacking objects: 100% (33/33), 10.41 MiB | 6.41 MiB/s, done.\n"
          ]
        }
      ],
      "source": [
        "!git clone https://github.com/aparande/FaceDetection.git"
      ]
    },
    {
      "cell_type": "code",
      "source": [
        "import sys\n",
        "sys.path.append('/content/FaceDetection')"
      ],
      "metadata": {
        "id": "P3otnpPcOc25"
      },
      "execution_count": null,
      "outputs": []
    },
    {
      "cell_type": "markdown",
      "source": [
        "## Function To Evaluate Results"
      ],
      "metadata": {
        "id": "UNsgUJFRH_It"
      }
    },
    {
      "cell_type": "code",
      "source": [
        "def evaluate(clf, data):\n",
        "  correct = 0\n",
        "  all_negatives, all_positives = 0, 0\n",
        "  true_negatives, false_negatives = 0, 0\n",
        "  true_positives, false_positives = 0, 0\n",
        "  classification_time = 0\n",
        "\n",
        "  for x, y in data:\n",
        "    if y == 1:\n",
        "        all_positives += 1\n",
        "    else:\n",
        "        all_negatives += 1\n",
        "\n",
        "    start = time.time()\n",
        "    prediction = clf.classify(x)\n",
        "    classification_time += time.time() - start\n",
        "    if prediction == 1 and y == 0:\n",
        "      false_positives += 1\n",
        "    if prediction == 0 and y == 1:\n",
        "      false_negatives += 1\n",
        "    \n",
        "    correct += 1 if prediction == y else 0\n",
        "  \n",
        "  print(\"False Positive Rate: %d/%d (%f)\" % (false_positives, all_negatives, false_positives/all_negatives))\n",
        "  print(\"False Negative Rate: %d/%d (%f)\" % (false_negatives, all_positives, false_negatives/all_positives))\n",
        "  print(\"Accuracy: %d/%d (%f)\" % (correct, len(data), correct/len(data)))\n",
        "  print(\"Average Classification Time: %f\" % (classification_time / len(data)))"
      ],
      "metadata": {
        "id": "oRcfWF9-PvG0"
      },
      "execution_count": null,
      "outputs": []
    },
    {
      "cell_type": "markdown",
      "source": [
        "## Importing Model from Cloned Repository"
      ],
      "metadata": {
        "id": "wAgQ7ciQICmE"
      }
    },
    {
      "cell_type": "code",
      "source": [
        "import face_detection as FaceDetection\n",
        "import numpy as np\n",
        "import pickle\n",
        "from viola_jones import ViolaJones\n",
        "from cascade import CascadeClassifier\n",
        "import time"
      ],
      "metadata": {
        "id": "SJcF3AxyMECe"
      },
      "execution_count": null,
      "outputs": []
    },
    {
      "cell_type": "markdown",
      "source": [
        "## Number of Weak Classifiers"
      ],
      "metadata": {
        "id": "FczFZeQTIHDg"
      }
    },
    {
      "cell_type": "code",
      "source": [
        "t=10"
      ],
      "metadata": {
        "id": "gRNxdeezP1uV"
      },
      "execution_count": null,
      "outputs": []
    },
    {
      "cell_type": "markdown",
      "source": [
        "## Training Viola-Jones and Saving Model"
      ],
      "metadata": {
        "id": "UCyARWISIPHN"
      }
    },
    {
      "cell_type": "code",
      "source": [
        "with open(\"/content/FaceDetection/training.pkl\", 'rb') as f:\n",
        "  training = pickle.load(f)\n",
        "clf = ViolaJones(T=t)\n",
        "clf.train(training, 2429, 4548)\n",
        "evaluate(clf, training)\n",
        "clf.save(str(t))"
      ],
      "metadata": {
        "colab": {
          "base_uri": "https://localhost:8080/"
        },
        "id": "so4HLoVVOnaG",
        "outputId": "8f2d3eee-c961-48f7-d164-a189f6c6df94"
      },
      "execution_count": null,
      "outputs": [
        {
          "output_type": "stream",
          "name": "stdout",
          "text": [
            "Computing integral images\n",
            "Building features\n"
          ]
        },
        {
          "output_type": "stream",
          "name": "stderr",
          "text": [
            "/content/FaceDetection/viola_jones.py:151: VisibleDeprecationWarning: Creating an ndarray from ragged nested sequences (which is a list-or-tuple of lists-or-tuples-or ndarrays with different lengths or shapes) is deprecated. If you meant to do this, you must specify 'dtype=object' when creating the ndarray.\n",
            "  return np.array(features)\n"
          ]
        },
        {
          "output_type": "stream",
          "name": "stdout",
          "text": [
            "Applying features to training examples\n",
            "Selecting best features\n",
            "Selected 5171 potential features\n",
            "Trained 1000 classifiers out of 5171\n",
            "Trained 2000 classifiers out of 5171\n",
            "Trained 3000 classifiers out of 5171\n",
            "Trained 4000 classifiers out of 5171\n",
            "Trained 5000 classifiers out of 5171\n",
            "Chose classifier: Weak Clf (threshold=-1050, polarity=1, [RectangleRegion(1, 2, 17, 3)], [RectangleRegion(1, 5, 17, 3)] with accuracy: 6054.000000 and alpha: 6.575151\n",
            "Trained 1000 classifiers out of 5171\n",
            "Trained 2000 classifiers out of 5171\n",
            "Trained 3000 classifiers out of 5171\n",
            "Trained 4000 classifiers out of 5171\n",
            "Trained 5000 classifiers out of 5171\n",
            "Chose classifier: Weak Clf (threshold=120, polarity=-1, [RectangleRegion(8, 3, 1, 8)], [RectangleRegion(7, 3, 1, 8)] with accuracy: 5939.000000 and alpha: 7.004581\n",
            "Trained 1000 classifiers out of 5171\n",
            "Trained 2000 classifiers out of 5171\n",
            "Trained 3000 classifiers out of 5171\n",
            "Trained 4000 classifiers out of 5171\n",
            "Trained 5000 classifiers out of 5171\n",
            "Chose classifier: Weak Clf (threshold=47, polarity=-1, [RectangleRegion(3, 5, 3, 5)], [RectangleRegion(3, 10, 3, 5)] with accuracy: 4878.000000 and alpha: 7.811466\n",
            "Trained 1000 classifiers out of 5171\n",
            "Trained 2000 classifiers out of 5171\n",
            "Trained 3000 classifiers out of 5171\n",
            "Trained 4000 classifiers out of 5171\n",
            "Trained 5000 classifiers out of 5171\n",
            "Chose classifier: Weak Clf (threshold=16, polarity=-1, [RectangleRegion(2, 1, 11, 4)], [RectangleRegion(2, 5, 11, 4)] with accuracy: 2726.000000 and alpha: 10.094419\n",
            "Trained 1000 classifiers out of 5171\n",
            "Trained 2000 classifiers out of 5171\n",
            "Trained 3000 classifiers out of 5171\n",
            "Trained 4000 classifiers out of 5171\n",
            "Trained 5000 classifiers out of 5171\n",
            "Chose classifier: Weak Clf (threshold=-80, polarity=1, [RectangleRegion(2, 1, 12, 4)], [RectangleRegion(2, 5, 12, 4)] with accuracy: 4614.000000 and alpha: 14.665004\n",
            "Trained 1000 classifiers out of 5171\n",
            "Trained 2000 classifiers out of 5171\n",
            "Trained 3000 classifiers out of 5171\n",
            "Trained 4000 classifiers out of 5171\n",
            "Trained 5000 classifiers out of 5171\n",
            "Chose classifier: Weak Clf (threshold=62, polarity=-1, [RectangleRegion(4, 1, 10, 4)], [RectangleRegion(4, 5, 10, 4)] with accuracy: 2813.000000 and alpha: 12.583252\n",
            "Trained 1000 classifiers out of 5171\n",
            "Trained 2000 classifiers out of 5171\n",
            "Trained 3000 classifiers out of 5171\n",
            "Trained 4000 classifiers out of 5171\n",
            "Trained 5000 classifiers out of 5171\n",
            "Chose classifier: Weak Clf (threshold=-281, polarity=1, [RectangleRegion(3, 1, 7, 5)], [RectangleRegion(3, 6, 7, 5)] with accuracy: 4948.000000 and alpha: 16.550790\n",
            "Trained 1000 classifiers out of 5171\n",
            "Trained 2000 classifiers out of 5171\n",
            "Trained 3000 classifiers out of 5171\n",
            "Trained 4000 classifiers out of 5171\n",
            "Trained 5000 classifiers out of 5171\n",
            "Chose classifier: Weak Clf (threshold=-271, polarity=1, [RectangleRegion(12, 0, 5, 6), RectangleRegion(7, 6, 5, 6)], [RectangleRegion(7, 0, 5, 6), RectangleRegion(12, 6, 5, 6)] with accuracy: 4740.000000 and alpha: 8.855204\n",
            "Trained 1000 classifiers out of 5171\n",
            "Trained 2000 classifiers out of 5171\n",
            "Trained 3000 classifiers out of 5171\n",
            "Trained 4000 classifiers out of 5171\n",
            "Trained 5000 classifiers out of 5171\n",
            "Chose classifier: Weak Clf (threshold=-78, polarity=-1, [RectangleRegion(3, 1, 5, 5)], [RectangleRegion(3, 6, 5, 5)] with accuracy: 2469.000000 and alpha: 14.451666\n",
            "Trained 1000 classifiers out of 5171\n",
            "Trained 2000 classifiers out of 5171\n",
            "Trained 3000 classifiers out of 5171\n",
            "Trained 4000 classifiers out of 5171\n",
            "Trained 5000 classifiers out of 5171\n",
            "Chose classifier: Weak Clf (threshold=-68, polarity=1, [RectangleRegion(3, 2, 5, 4)], [RectangleRegion(3, 6, 5, 4)] with accuracy: 4658.000000 and alpha: 14.147373\n",
            "False Positive Rate: 886/4548 (0.194811)\n",
            "False Negative Rate: 125/2429 (0.051462)\n",
            "Accuracy: 5966/6977 (0.855095)\n",
            "Average Classification Time: 0.000920\n"
          ]
        }
      ]
    },
    {
      "cell_type": "markdown",
      "source": [
        "## Loading Saved Viola-Jones Model for Evaluation"
      ],
      "metadata": {
        "id": "bOToc8OVIWDY"
      }
    },
    {
      "cell_type": "code",
      "source": [
        "filename=str(t)"
      ],
      "metadata": {
        "id": "qljVALiIQGWt"
      },
      "execution_count": null,
      "outputs": []
    },
    {
      "cell_type": "code",
      "source": [
        "with open(\"/content/FaceDetection/test.pkl\", 'rb') as f:\n",
        "  test = pickle.load(f)\n",
        "\n",
        "clf = ViolaJones.load(filename)\n",
        "evaluate(clf,test)"
      ],
      "metadata": {
        "colab": {
          "base_uri": "https://localhost:8080/"
        },
        "id": "sOcynsLXQECv",
        "outputId": "da093100-e70f-44ac-a02f-eb7431f14507"
      },
      "execution_count": null,
      "outputs": [
        {
          "output_type": "stream",
          "name": "stdout",
          "text": [
            "False Positive Rate: 5017/23573 (0.212828)\n",
            "False Negative Rate: 245/472 (0.519068)\n",
            "Accuracy: 18783/24045 (0.781160)\n",
            "Average Classification Time: 0.000845\n"
          ]
        }
      ]
    },
    {
      "cell_type": "markdown",
      "source": [
        "## Defining Cascade"
      ],
      "metadata": {
        "id": "VtPFNXXlIY0-"
      }
    },
    {
      "cell_type": "code",
      "source": [
        "layers=[1,10,25,25,50]\n",
        "filename=\"Cascade\""
      ],
      "metadata": {
        "id": "wtWn-E1OsXCP"
      },
      "execution_count": null,
      "outputs": []
    },
    {
      "cell_type": "markdown",
      "source": [
        "## Training Cascaded Viola-Jones"
      ],
      "metadata": {
        "id": "SvqDKCtuIqaQ"
      }
    },
    {
      "cell_type": "code",
      "source": [
        "with open(\"/content/FaceDetection/training.pkl\", 'rb') as f:\n",
        "  training = pickle.load(f)\n",
        "\n",
        "clf = CascadeClassifier(layers)\n",
        "clf.train(training)\n",
        "evaluate(clf, training)\n",
        "clf.save(filename)"
      ],
      "metadata": {
        "colab": {
          "base_uri": "https://localhost:8080/"
        },
        "id": "VDw1v6JlsAOB",
        "outputId": "899f91b5-e4fc-4850-f6eb-0a63e51733b3"
      },
      "execution_count": null,
      "outputs": [
        {
          "output_type": "stream",
          "name": "stdout",
          "text": [
            "Computing integral images\n",
            "Building features\n",
            "Applying features to training examples\n",
            "Selecting best features\n",
            "Selected 5171 potential features\n",
            "Trained 1000 classifiers out of 5171\n",
            "Trained 2000 classifiers out of 5171\n",
            "Trained 3000 classifiers out of 5171\n",
            "Trained 4000 classifiers out of 5171\n",
            "Trained 5000 classifiers out of 5171\n",
            "Chose classifier: Weak Clf (threshold=-1050, polarity=1, [RectangleRegion(1, 2, 17, 3)], [RectangleRegion(1, 5, 17, 3)] with accuracy: 6054.000000 and alpha: 6.575151\n",
            "Computing integral images\n",
            "Building features\n"
          ]
        },
        {
          "output_type": "stream",
          "name": "stderr",
          "text": [
            "/content/FaceDetection/viola_jones.py:151: VisibleDeprecationWarning: Creating an ndarray from ragged nested sequences (which is a list-or-tuple of lists-or-tuples-or ndarrays with different lengths or shapes) is deprecated. If you meant to do this, you must specify 'dtype=object' when creating the ndarray.\n",
            "  return np.array(features)\n"
          ]
        },
        {
          "output_type": "stream",
          "name": "stdout",
          "text": [
            "Applying features to training examples\n",
            "Selecting best features\n",
            "Selected 5171 potential features\n",
            "Trained 1000 classifiers out of 5171\n",
            "Trained 2000 classifiers out of 5171\n",
            "Trained 3000 classifiers out of 5171\n",
            "Trained 4000 classifiers out of 5171\n",
            "Trained 5000 classifiers out of 5171\n",
            "Chose classifier: Weak Clf (threshold=-93, polarity=1, [RectangleRegion(10, 1, 1, 8)], [RectangleRegion(9, 1, 1, 8)] with accuracy: 2668.000000 and alpha: 5.938615\n",
            "Trained 1000 classifiers out of 5171\n",
            "Trained 2000 classifiers out of 5171\n",
            "Trained 3000 classifiers out of 5171\n",
            "Trained 4000 classifiers out of 5171\n",
            "Trained 5000 classifiers out of 5171\n",
            "Chose classifier: Weak Clf (threshold=57, polarity=-1, [RectangleRegion(14, 14, 3, 2), RectangleRegion(11, 16, 3, 2)], [RectangleRegion(11, 14, 3, 2), RectangleRegion(14, 16, 3, 2)] with accuracy: 2541.000000 and alpha: 6.555117\n",
            "Trained 1000 classifiers out of 5171\n",
            "Trained 2000 classifiers out of 5171\n",
            "Trained 3000 classifiers out of 5171\n",
            "Trained 4000 classifiers out of 5171\n",
            "Trained 5000 classifiers out of 5171\n",
            "Chose classifier: Weak Clf (threshold=13, polarity=1, [RectangleRegion(14, 15, 3, 1), RectangleRegion(11, 16, 3, 1)], [RectangleRegion(11, 15, 3, 1), RectangleRegion(14, 16, 3, 1)] with accuracy: 690.000000 and alpha: 8.778310\n",
            "Trained 1000 classifiers out of 5171\n",
            "Trained 2000 classifiers out of 5171\n",
            "Trained 3000 classifiers out of 5171\n",
            "Trained 4000 classifiers out of 5171\n",
            "Trained 5000 classifiers out of 5171\n",
            "Chose classifier: Weak Clf (threshold=-61, polarity=1, [RectangleRegion(4, 6, 3, 5)], [RectangleRegion(1, 6, 3, 5)] with accuracy: 2617.000000 and alpha: 10.686659\n",
            "Trained 1000 classifiers out of 5171\n",
            "Trained 2000 classifiers out of 5171\n",
            "Trained 3000 classifiers out of 5171\n",
            "Trained 4000 classifiers out of 5171\n",
            "Trained 5000 classifiers out of 5171\n",
            "Chose classifier: Weak Clf (threshold=13, polarity=-1, [RectangleRegion(14, 15, 3, 1), RectangleRegion(11, 16, 3, 1)], [RectangleRegion(11, 15, 3, 1), RectangleRegion(14, 16, 3, 1)] with accuracy: 2433.000000 and alpha: 9.220632\n",
            "Trained 1000 classifiers out of 5171\n",
            "Trained 2000 classifiers out of 5171\n",
            "Trained 3000 classifiers out of 5171\n",
            "Trained 4000 classifiers out of 5171\n",
            "Trained 5000 classifiers out of 5171\n",
            "Chose classifier: Weak Clf (threshold=-282, polarity=1, [RectangleRegion(14, 17, 4, 1)], [RectangleRegion(10, 17, 4, 1)] with accuracy: 835.000000 and alpha: 10.273022\n",
            "Trained 1000 classifiers out of 5171\n",
            "Trained 2000 classifiers out of 5171\n",
            "Trained 3000 classifiers out of 5171\n",
            "Trained 4000 classifiers out of 5171\n",
            "Trained 5000 classifiers out of 5171\n",
            "Chose classifier: Weak Clf (threshold=-25, polarity=-1, [RectangleRegion(8, 4, 1, 4), RectangleRegion(7, 8, 1, 4)], [RectangleRegion(7, 4, 1, 4), RectangleRegion(8, 8, 1, 4)] with accuracy: 2525.000000 and alpha: 13.484191\n",
            "Trained 1000 classifiers out of 5171\n",
            "Trained 2000 classifiers out of 5171\n",
            "Trained 3000 classifiers out of 5171\n",
            "Trained 4000 classifiers out of 5171\n",
            "Trained 5000 classifiers out of 5171\n",
            "Chose classifier: Weak Clf (threshold=-915, polarity=1, [RectangleRegion(10, 7, 2, 2)], [RectangleRegion(12, 7, 2, 2), RectangleRegion(8, 7, 2, 2)] with accuracy: 1506.000000 and alpha: 12.033782\n",
            "Trained 1000 classifiers out of 5171\n",
            "Trained 2000 classifiers out of 5171\n",
            "Trained 3000 classifiers out of 5171\n",
            "Trained 4000 classifiers out of 5171\n",
            "Trained 5000 classifiers out of 5171\n",
            "Chose classifier: Weak Clf (threshold=-323, polarity=-1, [RectangleRegion(4, 7, 2, 3)], [RectangleRegion(2, 7, 2, 3)] with accuracy: 2433.000000 and alpha: 13.851836\n",
            "Trained 1000 classifiers out of 5171\n",
            "Trained 2000 classifiers out of 5171\n",
            "Trained 3000 classifiers out of 5171\n",
            "Trained 4000 classifiers out of 5171\n",
            "Trained 5000 classifiers out of 5171\n",
            "Chose classifier: Weak Clf (threshold=-312, polarity=1, [RectangleRegion(4, 7, 2, 3)], [RectangleRegion(2, 7, 2, 3)] with accuracy: 709.000000 and alpha: 15.020618\n",
            "Computing integral images\n",
            "Building features\n"
          ]
        },
        {
          "output_type": "stream",
          "name": "stderr",
          "text": [
            "/content/FaceDetection/viola_jones.py:151: VisibleDeprecationWarning: Creating an ndarray from ragged nested sequences (which is a list-or-tuple of lists-or-tuples-or ndarrays with different lengths or shapes) is deprecated. If you meant to do this, you must specify 'dtype=object' when creating the ndarray.\n",
            "  return np.array(features)\n"
          ]
        },
        {
          "output_type": "stream",
          "name": "stdout",
          "text": [
            "Applying features to training examples\n",
            "Selecting best features\n",
            "Selected 5171 potential features\n",
            "Trained 1000 classifiers out of 5171\n",
            "Trained 2000 classifiers out of 5171\n",
            "Trained 3000 classifiers out of 5171\n",
            "Trained 4000 classifiers out of 5171\n",
            "Trained 5000 classifiers out of 5171\n",
            "Chose classifier: Weak Clf (threshold=-33, polarity=1, [RectangleRegion(16, 0, 2, 2), RectangleRegion(14, 2, 2, 2)], [RectangleRegion(14, 0, 2, 2), RectangleRegion(16, 2, 2, 2)] with accuracy: 1706.000000 and alpha: 6.327965\n",
            "Trained 1000 classifiers out of 5171\n",
            "Trained 2000 classifiers out of 5171\n",
            "Trained 3000 classifiers out of 5171\n",
            "Trained 4000 classifiers out of 5171\n",
            "Trained 5000 classifiers out of 5171\n",
            "Chose classifier: Weak Clf (threshold=406, polarity=1, [RectangleRegion(9, 4, 6, 7), RectangleRegion(3, 11, 6, 7)], [RectangleRegion(3, 4, 6, 7), RectangleRegion(9, 11, 6, 7)] with accuracy: 2328.000000 and alpha: 7.348747\n",
            "Trained 1000 classifiers out of 5171\n",
            "Trained 2000 classifiers out of 5171\n",
            "Trained 3000 classifiers out of 5171\n",
            "Trained 4000 classifiers out of 5171\n",
            "Trained 5000 classifiers out of 5171\n",
            "Chose classifier: Weak Clf (threshold=-1, polarity=1, [RectangleRegion(14, 5, 2, 3), RectangleRegion(12, 8, 2, 3)], [RectangleRegion(12, 5, 2, 3), RectangleRegion(14, 8, 2, 3)] with accuracy: 1841.000000 and alpha: 10.625300\n",
            "Trained 1000 classifiers out of 5171\n",
            "Trained 2000 classifiers out of 5171\n",
            "Trained 3000 classifiers out of 5171\n",
            "Trained 4000 classifiers out of 5171\n",
            "Trained 5000 classifiers out of 5171\n",
            "Chose classifier: Weak Clf (threshold=-41, polarity=1, [RectangleRegion(14, 9, 4, 2)], [RectangleRegion(10, 9, 4, 2)] with accuracy: 233.000000 and alpha: 9.870877\n",
            "Trained 1000 classifiers out of 5171\n",
            "Trained 2000 classifiers out of 5171\n",
            "Trained 3000 classifiers out of 5171\n",
            "Trained 4000 classifiers out of 5171\n",
            "Trained 5000 classifiers out of 5171\n",
            "Chose classifier: Weak Clf (threshold=-90, polarity=-1, [RectangleRegion(14, 5, 1, 7)], [RectangleRegion(13, 5, 1, 7)] with accuracy: 2440.000000 and alpha: 14.493601\n",
            "Trained 1000 classifiers out of 5171\n",
            "Trained 2000 classifiers out of 5171\n",
            "Trained 3000 classifiers out of 5171\n",
            "Trained 4000 classifiers out of 5171\n",
            "Trained 5000 classifiers out of 5171\n",
            "Chose classifier: Weak Clf (threshold=-639, polarity=1, [RectangleRegion(10, 1, 4, 1)], [RectangleRegion(10, 2, 4, 1), RectangleRegion(10, 0, 4, 1)] with accuracy: 790.000000 and alpha: 14.560522\n",
            "Trained 1000 classifiers out of 5171\n",
            "Trained 2000 classifiers out of 5171\n",
            "Trained 3000 classifiers out of 5171\n",
            "Trained 4000 classifiers out of 5171\n",
            "Trained 5000 classifiers out of 5171\n",
            "Chose classifier: Weak Clf (threshold=-565, polarity=-1, [RectangleRegion(14, 5, 4, 5)], [RectangleRegion(14, 10, 4, 5)] with accuracy: 2430.000000 and alpha: 12.649860\n",
            "Trained 1000 classifiers out of 5171\n",
            "Trained 2000 classifiers out of 5171\n",
            "Trained 3000 classifiers out of 5171\n",
            "Trained 4000 classifiers out of 5171\n",
            "Trained 5000 classifiers out of 5171\n",
            "Chose classifier: Weak Clf (threshold=-187, polarity=1, [RectangleRegion(14, 6, 3, 4)], [RectangleRegion(14, 10, 3, 4)] with accuracy: 110.000000 and alpha: 12.692261\n",
            "Trained 1000 classifiers out of 5171\n",
            "Trained 2000 classifiers out of 5171\n",
            "Trained 3000 classifiers out of 5171\n",
            "Trained 4000 classifiers out of 5171\n",
            "Trained 5000 classifiers out of 5171\n",
            "Chose classifier: Weak Clf (threshold=70, polarity=1, [RectangleRegion(9, 10, 1, 3), RectangleRegion(8, 13, 1, 3)], [RectangleRegion(8, 10, 1, 3), RectangleRegion(9, 13, 1, 3)] with accuracy: 2409.000000 and alpha: 12.862484\n",
            "Trained 1000 classifiers out of 5171\n",
            "Trained 2000 classifiers out of 5171\n",
            "Trained 3000 classifiers out of 5171\n",
            "Trained 4000 classifiers out of 5171\n",
            "Trained 5000 classifiers out of 5171\n",
            "Chose classifier: Weak Clf (threshold=-164, polarity=1, [RectangleRegion(16, 0, 2, 3), RectangleRegion(14, 3, 2, 3)], [RectangleRegion(14, 0, 2, 3), RectangleRegion(16, 3, 2, 3)] with accuracy: 733.000000 and alpha: 11.470495\n",
            "Trained 1000 classifiers out of 5171\n",
            "Trained 2000 classifiers out of 5171\n",
            "Trained 3000 classifiers out of 5171\n",
            "Trained 4000 classifiers out of 5171\n",
            "Trained 5000 classifiers out of 5171\n",
            "Chose classifier: Weak Clf (threshold=-1195, polarity=-1, [RectangleRegion(0, 4, 16, 6)], [RectangleRegion(0, 10, 16, 6)] with accuracy: 2436.000000 and alpha: 12.931621\n",
            "Trained 1000 classifiers out of 5171\n",
            "Trained 2000 classifiers out of 5171\n",
            "Trained 3000 classifiers out of 5171\n",
            "Trained 4000 classifiers out of 5171\n",
            "Trained 5000 classifiers out of 5171\n",
            "Chose classifier: Weak Clf (threshold=-51, polarity=1, [RectangleRegion(16, 0, 2, 1), RectangleRegion(14, 1, 2, 1)], [RectangleRegion(14, 0, 2, 1), RectangleRegion(16, 1, 2, 1)] with accuracy: 1051.000000 and alpha: 13.092119\n",
            "Trained 1000 classifiers out of 5171\n",
            "Trained 2000 classifiers out of 5171\n",
            "Trained 3000 classifiers out of 5171\n",
            "Trained 4000 classifiers out of 5171\n",
            "Trained 5000 classifiers out of 5171\n",
            "Chose classifier: Weak Clf (threshold=369, polarity=1, [RectangleRegion(6, 2, 1, 8)], [RectangleRegion(6, 10, 1, 8)] with accuracy: 2165.000000 and alpha: 13.398444\n",
            "Trained 1000 classifiers out of 5171\n",
            "Trained 2000 classifiers out of 5171\n",
            "Trained 3000 classifiers out of 5171\n",
            "Trained 4000 classifiers out of 5171\n",
            "Trained 5000 classifiers out of 5171\n",
            "Chose classifier: Weak Clf (threshold=-41, polarity=1, [RectangleRegion(3, 12, 1, 3), RectangleRegion(2, 15, 1, 3)], [RectangleRegion(2, 12, 1, 3), RectangleRegion(3, 15, 1, 3)] with accuracy: 1032.000000 and alpha: 10.697744\n",
            "Trained 1000 classifiers out of 5171\n",
            "Trained 2000 classifiers out of 5171\n",
            "Trained 3000 classifiers out of 5171\n",
            "Trained 4000 classifiers out of 5171\n",
            "Trained 5000 classifiers out of 5171\n",
            "Chose classifier: Weak Clf (threshold=727, polarity=1, [RectangleRegion(14, 2, 3, 13)], [RectangleRegion(11, 2, 3, 13)] with accuracy: 1986.000000 and alpha: 14.580237\n",
            "Trained 1000 classifiers out of 5171\n",
            "Trained 2000 classifiers out of 5171\n",
            "Trained 3000 classifiers out of 5171\n",
            "Trained 4000 classifiers out of 5171\n",
            "Trained 5000 classifiers out of 5171\n",
            "Chose classifier: Weak Clf (threshold=-22, polarity=1, [RectangleRegion(17, 0, 1, 2)], [RectangleRegion(16, 0, 1, 2)] with accuracy: 1091.000000 and alpha: 11.018934\n",
            "Trained 1000 classifiers out of 5171\n",
            "Trained 2000 classifiers out of 5171\n",
            "Trained 3000 classifiers out of 5171\n",
            "Trained 4000 classifiers out of 5171\n",
            "Trained 5000 classifiers out of 5171\n",
            "Chose classifier: Weak Clf (threshold=333, polarity=1, [RectangleRegion(9, 9, 5, 3), RectangleRegion(4, 12, 5, 3)], [RectangleRegion(4, 9, 5, 3), RectangleRegion(9, 12, 5, 3)] with accuracy: 2373.000000 and alpha: 14.045363\n",
            "Trained 1000 classifiers out of 5171\n",
            "Trained 2000 classifiers out of 5171\n",
            "Trained 3000 classifiers out of 5171\n",
            "Trained 4000 classifiers out of 5171\n",
            "Trained 5000 classifiers out of 5171\n",
            "Chose classifier: Weak Clf (threshold=-465, polarity=1, [RectangleRegion(12, 0, 2, 1)], [RectangleRegion(14, 0, 2, 1), RectangleRegion(10, 0, 2, 1)] with accuracy: 211.000000 and alpha: 14.777656\n",
            "Trained 1000 classifiers out of 5171\n",
            "Trained 2000 classifiers out of 5171\n",
            "Trained 3000 classifiers out of 5171\n",
            "Trained 4000 classifiers out of 5171\n",
            "Trained 5000 classifiers out of 5171\n",
            "Chose classifier: Weak Clf (threshold=-1644, polarity=-1, [RectangleRegion(8, 0, 6, 9)], [RectangleRegion(8, 9, 6, 9)] with accuracy: 2438.000000 and alpha: 16.113068\n",
            "Trained 1000 classifiers out of 5171\n",
            "Trained 2000 classifiers out of 5171\n",
            "Trained 3000 classifiers out of 5171\n",
            "Trained 4000 classifiers out of 5171\n",
            "Trained 5000 classifiers out of 5171\n",
            "Chose classifier: Weak Clf (threshold=-84, polarity=1, [RectangleRegion(17, 0, 1, 3), RectangleRegion(16, 3, 1, 3)], [RectangleRegion(16, 0, 1, 3), RectangleRegion(17, 3, 1, 3)] with accuracy: 442.000000 and alpha: 16.101878\n",
            "Trained 1000 classifiers out of 5171\n",
            "Trained 2000 classifiers out of 5171\n",
            "Trained 3000 classifiers out of 5171\n",
            "Trained 4000 classifiers out of 5171\n",
            "Trained 5000 classifiers out of 5171\n",
            "Chose classifier: Weak Clf (threshold=-265, polarity=1, [RectangleRegion(8, 3, 2, 3)], [RectangleRegion(8, 6, 2, 3), RectangleRegion(8, 0, 2, 3)] with accuracy: 2435.000000 and alpha: 13.828605\n",
            "Trained 1000 classifiers out of 5171\n",
            "Trained 2000 classifiers out of 5171\n",
            "Trained 3000 classifiers out of 5171\n",
            "Trained 4000 classifiers out of 5171\n",
            "Trained 5000 classifiers out of 5171\n",
            "Chose classifier: Weak Clf (threshold=-124, polarity=1, [RectangleRegion(9, 6, 1, 6), RectangleRegion(8, 12, 1, 6)], [RectangleRegion(8, 6, 1, 6), RectangleRegion(9, 12, 1, 6)] with accuracy: 646.000000 and alpha: 14.602808\n",
            "Trained 1000 classifiers out of 5171\n",
            "Trained 2000 classifiers out of 5171\n",
            "Trained 3000 classifiers out of 5171\n",
            "Trained 4000 classifiers out of 5171\n",
            "Trained 5000 classifiers out of 5171\n",
            "Chose classifier: Weak Clf (threshold=78, polarity=1, [RectangleRegion(17, 7, 1, 2)], [RectangleRegion(17, 9, 1, 2)] with accuracy: 2258.000000 and alpha: 12.705728\n",
            "Trained 1000 classifiers out of 5171\n",
            "Trained 2000 classifiers out of 5171\n",
            "Trained 3000 classifiers out of 5171\n",
            "Trained 4000 classifiers out of 5171\n",
            "Trained 5000 classifiers out of 5171\n",
            "Chose classifier: Weak Clf (threshold=-19, polarity=1, [RectangleRegion(3, 14, 2, 2)], [RectangleRegion(3, 16, 2, 2)] with accuracy: 1819.000000 and alpha: 11.035189\n",
            "Trained 1000 classifiers out of 5171\n",
            "Trained 2000 classifiers out of 5171\n",
            "Trained 3000 classifiers out of 5171\n",
            "Trained 4000 classifiers out of 5171\n",
            "Trained 5000 classifiers out of 5171\n",
            "Chose classifier: Weak Clf (threshold=342, polarity=1, [RectangleRegion(3, 7, 6, 4)], [RectangleRegion(3, 11, 6, 4)] with accuracy: 563.000000 and alpha: 13.041550\n",
            "Computing integral images\n",
            "Building features\n"
          ]
        },
        {
          "output_type": "stream",
          "name": "stderr",
          "text": [
            "/content/FaceDetection/viola_jones.py:151: VisibleDeprecationWarning: Creating an ndarray from ragged nested sequences (which is a list-or-tuple of lists-or-tuples-or ndarrays with different lengths or shapes) is deprecated. If you meant to do this, you must specify 'dtype=object' when creating the ndarray.\n",
            "  return np.array(features)\n"
          ]
        },
        {
          "output_type": "stream",
          "name": "stdout",
          "text": [
            "Applying features to training examples\n",
            "Selecting best features\n",
            "Selected 5171 potential features\n",
            "Trained 1000 classifiers out of 5171\n",
            "Trained 2000 classifiers out of 5171\n",
            "Trained 3000 classifiers out of 5171\n",
            "Trained 4000 classifiers out of 5171\n",
            "Trained 5000 classifiers out of 5171\n",
            "Chose classifier: Weak Clf (threshold=5, polarity=1, [RectangleRegion(10, 1, 3, 6), RectangleRegion(7, 7, 3, 6)], [RectangleRegion(7, 1, 3, 6), RectangleRegion(10, 7, 3, 6)] with accuracy: 2211.000000 and alpha: 7.671813\n",
            "Trained 1000 classifiers out of 5171\n",
            "Trained 2000 classifiers out of 5171\n",
            "Trained 3000 classifiers out of 5171\n",
            "Trained 4000 classifiers out of 5171\n",
            "Trained 5000 classifiers out of 5171\n",
            "Chose classifier: Weak Clf (threshold=11, polarity=1, [RectangleRegion(8, 6, 1, 1)], [RectangleRegion(8, 7, 1, 1)] with accuracy: 2381.000000 and alpha: 13.689179\n",
            "Trained 1000 classifiers out of 5171\n",
            "Trained 2000 classifiers out of 5171\n",
            "Trained 3000 classifiers out of 5171\n",
            "Trained 4000 classifiers out of 5171\n",
            "Trained 5000 classifiers out of 5171\n",
            "Chose classifier: Weak Clf (threshold=-19, polarity=1, [RectangleRegion(10, 2, 4, 5), RectangleRegion(6, 7, 4, 5)], [RectangleRegion(6, 2, 4, 5), RectangleRegion(10, 7, 4, 5)] with accuracy: 2167.000000 and alpha: 13.563814\n",
            "Trained 1000 classifiers out of 5171\n",
            "Trained 2000 classifiers out of 5171\n",
            "Trained 3000 classifiers out of 5171\n",
            "Trained 4000 classifiers out of 5171\n",
            "Trained 5000 classifiers out of 5171\n",
            "Chose classifier: Weak Clf (threshold=567, polarity=1, [RectangleRegion(11, 9, 4, 5)], [RectangleRegion(7, 9, 4, 5)] with accuracy: 2070.000000 and alpha: 13.589045\n",
            "Trained 1000 classifiers out of 5171\n",
            "Trained 2000 classifiers out of 5171\n",
            "Trained 3000 classifiers out of 5171\n",
            "Trained 4000 classifiers out of 5171\n",
            "Trained 5000 classifiers out of 5171\n",
            "Chose classifier: Weak Clf (threshold=-964, polarity=1, [RectangleRegion(11, 1, 7, 7), RectangleRegion(4, 8, 7, 7)], [RectangleRegion(4, 1, 7, 7), RectangleRegion(11, 8, 7, 7)] with accuracy: 1419.000000 and alpha: 14.326794\n",
            "Trained 1000 classifiers out of 5171\n",
            "Trained 2000 classifiers out of 5171\n",
            "Trained 3000 classifiers out of 5171\n",
            "Trained 4000 classifiers out of 5171\n",
            "Trained 5000 classifiers out of 5171\n",
            "Chose classifier: Weak Clf (threshold=-1113, polarity=-1, [RectangleRegion(4, 5, 2, 13)], [RectangleRegion(2, 5, 2, 13)] with accuracy: 2428.000000 and alpha: 14.138679\n",
            "Trained 1000 classifiers out of 5171\n",
            "Trained 2000 classifiers out of 5171\n",
            "Trained 3000 classifiers out of 5171\n",
            "Trained 4000 classifiers out of 5171\n",
            "Trained 5000 classifiers out of 5171\n",
            "Chose classifier: Weak Clf (threshold=-57, polarity=1, [RectangleRegion(8, 5, 2, 2)], [RectangleRegion(8, 7, 2, 2)] with accuracy: 655.000000 and alpha: 15.556033\n",
            "Trained 1000 classifiers out of 5171\n",
            "Trained 2000 classifiers out of 5171\n",
            "Trained 3000 classifiers out of 5171\n",
            "Trained 4000 classifiers out of 5171\n",
            "Trained 5000 classifiers out of 5171\n",
            "Chose classifier: Weak Clf (threshold=32, polarity=1, [RectangleRegion(17, 13, 1, 1)], [RectangleRegion(17, 14, 1, 1)] with accuracy: 2389.000000 and alpha: 13.359204\n",
            "Trained 1000 classifiers out of 5171\n",
            "Trained 2000 classifiers out of 5171\n",
            "Trained 3000 classifiers out of 5171\n",
            "Trained 4000 classifiers out of 5171\n",
            "Trained 5000 classifiers out of 5171\n",
            "Chose classifier: Weak Clf (threshold=-4, polarity=1, [RectangleRegion(17, 7, 1, 4)], [RectangleRegion(16, 7, 1, 4)] with accuracy: 2169.000000 and alpha: 14.389846\n",
            "Trained 1000 classifiers out of 5171\n",
            "Trained 2000 classifiers out of 5171\n",
            "Trained 3000 classifiers out of 5171\n",
            "Trained 4000 classifiers out of 5171\n",
            "Trained 5000 classifiers out of 5171\n",
            "Chose classifier: Weak Clf (threshold=-21, polarity=1, [RectangleRegion(10, 1, 8, 8), RectangleRegion(2, 9, 8, 8)], [RectangleRegion(2, 1, 8, 8), RectangleRegion(10, 9, 8, 8)] with accuracy: 2097.000000 and alpha: 18.883590\n",
            "Trained 1000 classifiers out of 5171\n",
            "Trained 2000 classifiers out of 5171\n",
            "Trained 3000 classifiers out of 5171\n",
            "Trained 4000 classifiers out of 5171\n",
            "Trained 5000 classifiers out of 5171\n",
            "Chose classifier: Weak Clf (threshold=359, polarity=1, [RectangleRegion(10, 11, 5, 2)], [RectangleRegion(5, 11, 5, 2)] with accuracy: 2002.000000 and alpha: 18.193022\n",
            "Trained 1000 classifiers out of 5171\n",
            "Trained 2000 classifiers out of 5171\n",
            "Trained 3000 classifiers out of 5171\n",
            "Trained 4000 classifiers out of 5171\n",
            "Trained 5000 classifiers out of 5171\n",
            "Chose classifier: Weak Clf (threshold=-880, polarity=1, [RectangleRegion(11, 0, 6, 6), RectangleRegion(5, 6, 6, 6)], [RectangleRegion(5, 0, 6, 6), RectangleRegion(11, 6, 6, 6)] with accuracy: 1709.000000 and alpha: 17.673814\n",
            "Trained 1000 classifiers out of 5171\n",
            "Trained 2000 classifiers out of 5171\n",
            "Trained 3000 classifiers out of 5171\n",
            "Trained 4000 classifiers out of 5171\n",
            "Trained 5000 classifiers out of 5171\n",
            "Chose classifier: Weak Clf (threshold=255, polarity=1, [RectangleRegion(12, 7, 1, 4), RectangleRegion(11, 11, 1, 4)], [RectangleRegion(11, 7, 1, 4), RectangleRegion(12, 11, 1, 4)] with accuracy: 2423.000000 and alpha: 14.835671\n",
            "Trained 1000 classifiers out of 5171\n",
            "Trained 2000 classifiers out of 5171\n",
            "Trained 3000 classifiers out of 5171\n",
            "Trained 4000 classifiers out of 5171\n",
            "Trained 5000 classifiers out of 5171\n",
            "Chose classifier: Weak Clf (threshold=-5, polarity=1, [RectangleRegion(7, 6, 4, 1)], [RectangleRegion(7, 7, 4, 1)] with accuracy: 1828.000000 and alpha: 15.890610\n",
            "Trained 1000 classifiers out of 5171\n",
            "Trained 2000 classifiers out of 5171\n",
            "Trained 3000 classifiers out of 5171\n",
            "Trained 4000 classifiers out of 5171\n",
            "Trained 5000 classifiers out of 5171\n",
            "Chose classifier: Weak Clf (threshold=2, polarity=1, [RectangleRegion(4, 16, 2, 1), RectangleRegion(2, 17, 2, 1)], [RectangleRegion(2, 16, 2, 1), RectangleRegion(4, 17, 2, 1)] with accuracy: 2119.000000 and alpha: 17.639818\n",
            "Trained 1000 classifiers out of 5171\n",
            "Trained 2000 classifiers out of 5171\n",
            "Trained 3000 classifiers out of 5171\n",
            "Trained 4000 classifiers out of 5171\n",
            "Trained 5000 classifiers out of 5171\n",
            "Chose classifier: Weak Clf (threshold=28, polarity=1, [RectangleRegion(5, 1, 5, 7)], [RectangleRegion(0, 1, 5, 7)] with accuracy: 289.000000 and alpha: 14.015569\n",
            "Trained 1000 classifiers out of 5171\n",
            "Trained 2000 classifiers out of 5171\n",
            "Trained 3000 classifiers out of 5171\n",
            "Trained 4000 classifiers out of 5171\n",
            "Trained 5000 classifiers out of 5171\n",
            "Chose classifier: Weak Clf (threshold=176, polarity=1, [RectangleRegion(10, 1, 3, 6), RectangleRegion(7, 7, 3, 6)], [RectangleRegion(7, 1, 3, 6), RectangleRegion(10, 7, 3, 6)] with accuracy: 2344.000000 and alpha: 15.583633\n",
            "Trained 1000 classifiers out of 5171\n",
            "Trained 2000 classifiers out of 5171\n",
            "Trained 3000 classifiers out of 5171\n",
            "Trained 4000 classifiers out of 5171\n",
            "Trained 5000 classifiers out of 5171\n",
            "Chose classifier: Weak Clf (threshold=3, polarity=1, [RectangleRegion(8, 6, 1, 1)], [RectangleRegion(8, 7, 1, 1)] with accuracy: 2069.000000 and alpha: 21.847624\n",
            "Trained 1000 classifiers out of 5171\n",
            "Trained 2000 classifiers out of 5171\n",
            "Trained 3000 classifiers out of 5171\n",
            "Trained 4000 classifiers out of 5171\n",
            "Trained 5000 classifiers out of 5171\n",
            "Chose classifier: Weak Clf (threshold=37, polarity=1, [RectangleRegion(6, 10, 1, 3)], [RectangleRegion(5, 10, 1, 3)] with accuracy: 2308.000000 and alpha: 22.944684\n",
            "Trained 1000 classifiers out of 5171\n",
            "Trained 2000 classifiers out of 5171\n",
            "Trained 3000 classifiers out of 5171\n",
            "Trained 4000 classifiers out of 5171\n",
            "Trained 5000 classifiers out of 5171\n",
            "Chose classifier: Weak Clf (threshold=83, polarity=1, [RectangleRegion(9, 5, 7, 4), RectangleRegion(2, 9, 7, 4)], [RectangleRegion(2, 5, 7, 4), RectangleRegion(9, 9, 7, 4)] with accuracy: 1755.000000 and alpha: 16.266174\n",
            "Trained 1000 classifiers out of 5171\n",
            "Trained 2000 classifiers out of 5171\n",
            "Trained 3000 classifiers out of 5171\n",
            "Trained 4000 classifiers out of 5171\n",
            "Trained 5000 classifiers out of 5171\n",
            "Chose classifier: Weak Clf (threshold=7, polarity=1, [RectangleRegion(4, 14, 3, 2), RectangleRegion(1, 16, 3, 2)], [RectangleRegion(1, 14, 3, 2), RectangleRegion(4, 16, 3, 2)] with accuracy: 2106.000000 and alpha: 17.474713\n",
            "Trained 1000 classifiers out of 5171\n",
            "Trained 2000 classifiers out of 5171\n",
            "Trained 3000 classifiers out of 5171\n",
            "Trained 4000 classifiers out of 5171\n",
            "Trained 5000 classifiers out of 5171\n",
            "Chose classifier: Weak Clf (threshold=-154, polarity=1, [RectangleRegion(12, 0, 6, 6), RectangleRegion(6, 6, 6, 6)], [RectangleRegion(6, 0, 6, 6), RectangleRegion(12, 6, 6, 6)] with accuracy: 2249.000000 and alpha: 19.370553\n",
            "Trained 1000 classifiers out of 5171\n",
            "Trained 2000 classifiers out of 5171\n",
            "Trained 3000 classifiers out of 5171\n",
            "Trained 4000 classifiers out of 5171\n",
            "Trained 5000 classifiers out of 5171\n",
            "Chose classifier: Weak Clf (threshold=112, polarity=1, [RectangleRegion(6, 0, 1, 6), RectangleRegion(5, 6, 1, 6)], [RectangleRegion(5, 0, 1, 6), RectangleRegion(6, 6, 1, 6)] with accuracy: 1414.000000 and alpha: 17.059412\n",
            "Trained 1000 classifiers out of 5171\n",
            "Trained 2000 classifiers out of 5171\n",
            "Trained 3000 classifiers out of 5171\n",
            "Trained 4000 classifiers out of 5171\n",
            "Trained 5000 classifiers out of 5171\n",
            "Chose classifier: Weak Clf (threshold=-156, polarity=1, [RectangleRegion(11, 7, 3, 3), RectangleRegion(8, 10, 3, 3)], [RectangleRegion(8, 7, 3, 3), RectangleRegion(11, 10, 3, 3)] with accuracy: 1375.000000 and alpha: 17.659898\n",
            "Trained 1000 classifiers out of 5171\n",
            "Trained 2000 classifiers out of 5171\n",
            "Trained 3000 classifiers out of 5171\n",
            "Trained 4000 classifiers out of 5171\n",
            "Trained 5000 classifiers out of 5171\n",
            "Chose classifier: Weak Clf (threshold=16, polarity=1, [RectangleRegion(17, 7, 1, 5)], [RectangleRegion(16, 7, 1, 5)] with accuracy: 2283.000000 and alpha: 20.004804\n",
            "Stopping early. FPR = 0\n",
            "False Positive Rate: 0/4548 (0.000000)\n",
            "False Negative Rate: 690/2429 (0.284068)\n",
            "Accuracy: 6287/6977 (0.901104)\n",
            "Average Classification Time: 0.001635\n"
          ]
        }
      ]
    },
    {
      "cell_type": "markdown",
      "source": [
        "## Loading Saved Cascaded Viola-Jones for Evaluation"
      ],
      "metadata": {
        "id": "MhrAzJE2IsAP"
      }
    },
    {
      "cell_type": "code",
      "source": [
        "with open(\"/content/FaceDetection/test.pkl\", \"rb\") as f:\n",
        "  test = pickle.load(f)\n",
        "\n",
        "clf = CascadeClassifier.load(filename)\n",
        "evaluate(clf, test)"
      ],
      "metadata": {
        "colab": {
          "base_uri": "https://localhost:8080/"
        },
        "id": "7Uw2Zp6XsKeo",
        "outputId": "3b04cc45-9883-4f83-8c64-783d426980ef"
      },
      "execution_count": null,
      "outputs": [
        {
          "output_type": "stream",
          "name": "stdout",
          "text": [
            "False Positive Rate: 132/23573 (0.005600)\n",
            "False Negative Rate: 432/472 (0.915254)\n",
            "Accuracy: 23481/24045 (0.976544)\n",
            "Average Classification Time: 0.000990\n"
          ]
        }
      ]
    }
  ]
}